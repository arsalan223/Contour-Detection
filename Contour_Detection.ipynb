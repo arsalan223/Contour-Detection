{
 "cells": [
  {
   "cell_type": "code",
   "execution_count": 23,
   "metadata": {},
   "outputs": [],
   "source": [
    "import cv2 as cv"
   ]
  },
  {
   "cell_type": "markdown",
   "metadata": {},
   "source": [
    "# Contour Detection"
   ]
  },
  {
   "cell_type": "code",
   "execution_count": 82,
   "metadata": {},
   "outputs": [],
   "source": [
    "img  = cv.imread('opencv-logo.png')\n",
    "gray_img = cv.cvtColor(img, cv.COLOR_BGR2GRAY) #used to create mask\n",
    "\n",
    "mask = cv.threshold(gray_img, 200, 255, 0)[1] #arg4=0 (here 0 = cv.THRESH_BINARY_INV & 1 = cv.THRESH_BINARY) \n",
    "\n",
    "contours, hierarchy = cv.findContours(mask, cv.RETR_TREE, cv.CHAIN_APPROX_NONE) #arg2=contour retrieval mode, arg3=contour approximation method.\n",
    "cv.drawContours(img, contours, -1, (0,255,255), 3) #arg3=-1(will draw all contours) or we can pass index position of contour to draw\n",
    "\n",
    "cv.imshow('img', img)\n",
    "cv.waitKey(0)\n",
    "cv.destroyAllWindows()"
   ]
  }
 ],
 "metadata": {
  "kernelspec": {
   "display_name": "Python 3",
   "language": "python",
   "name": "python3"
  },
  "language_info": {
   "codemirror_mode": {
    "name": "ipython",
    "version": 3
   },
   "file_extension": ".py",
   "mimetype": "text/x-python",
   "name": "python",
   "nbconvert_exporter": "python",
   "pygments_lexer": "ipython3",
   "version": "3.8.1"
  }
 },
 "nbformat": 4,
 "nbformat_minor": 4
}
